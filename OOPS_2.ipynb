{
 "cells": [
  {
   "cell_type": "code",
   "execution_count": 1,
   "id": "fb18f6c5-01eb-4e5f-a7e7-31c6f0367806",
   "metadata": {},
   "outputs": [],
   "source": [
    "class student_info:\n",
    "\n",
    "    def __init__(self,Name,Age,Address,Number,Gender):\n",
    "        self.Name=Name\n",
    "        self.Age=Age\n",
    "        self.Address=Address\n",
    "        self.Number=Number\n",
    "        \n",
    "        self.Gender=Gender\n",
    "\n",
    "    def greet(self):\n",
    "        print(f' Hello {self.Name} May I confirm your details: Age: {self.Age} and i think you will be {self.Age+10} in next 10 years ,so your Address is this  {self.Address} ) is this your Number right that is  {self.Number}  ,so in the last your gender is {self.Gender}')"
   ]
  },
  {
   "cell_type": "code",
   "execution_count": 2,
   "id": "abd5d984-0f5c-4091-8d06-4272ca58f48c",
   "metadata": {},
   "outputs": [],
   "source": [
    "student_1=student_info('Payal',23,\"Plotno- 20\",+101010,'Female')"
   ]
  },
  {
   "cell_type": "code",
   "execution_count": 3,
   "id": "14d808ac-a62f-4ae2-8ca4-63ecc4a3ac34",
   "metadata": {
    "scrolled": true
   },
   "outputs": [
    {
     "name": "stdout",
     "output_type": "stream",
     "text": [
      " Hello Payal May I confirm your details: Age: 23 and i think you will be 33 in next 10 years ,so your Address is this  Plotno- 20 ) is this your Number right that is  101010  ,so in the last your gender is Female\n"
     ]
    }
   ],
   "source": [
    "student_1.greet()"
   ]
  },
  {
   "cell_type": "code",
   "execution_count": 4,
   "id": "5a7c0ee7-eaec-45eb-82fc-bd02bc7cd134",
   "metadata": {},
   "outputs": [
    {
     "name": "stdout",
     "output_type": "stream",
     "text": [
      " Hello Arun May I confirm your details: Age: 25 and i think you will be 35 in next 10 years ,so your Address is this  Plotno- 43 ) is this your Number right that is  101088  ,so in the last your gender is male\n"
     ]
    }
   ],
   "source": [
    "student_2=student_info('Arun',25,\"Plotno- 43\",+101088,'male')\n",
    "student_2.greet()"
   ]
  },
  {
   "cell_type": "code",
   "execution_count": 5,
   "id": "6ee0b57f",
   "metadata": {},
   "outputs": [
    {
     "data": {
      "text/plain": [
       "101088"
      ]
     },
     "execution_count": 5,
     "metadata": {},
     "output_type": "execute_result"
    }
   ],
   "source": [
    "student_2.Number"
   ]
  },
  {
   "cell_type": "markdown",
   "id": "e27c14ed",
   "metadata": {},
   "source": [
    "###  What is OOPS?\n",
    "\n",
    "* Object Oriented programming (OOP) is a programming paradigm that relies on the concept of classes and objects."
   ]
  },
  {
   "cell_type": "markdown",
   "id": "8601293d",
   "metadata": {},
   "source": [
    "### And what is class?\n",
    "\n",
    "* Class is a Template definition of methods and variables."
   ]
  },
  {
   "cell_type": "code",
   "execution_count": null,
   "id": "af04d3fb",
   "metadata": {},
   "outputs": [],
   "source": [
    "\n"
   ]
  },
  {
   "cell_type": "code",
   "execution_count": null,
   "id": "28db8bb6",
   "metadata": {},
   "outputs": [],
   "source": []
  },
  {
   "cell_type": "code",
   "execution_count": null,
   "id": "63316f6c",
   "metadata": {},
   "outputs": [],
   "source": [
    "class ticket:\n",
    "    \n",
    "    \n",
    "    def __init__(self,Name,age,num_tickets,movie_name):\n",
    "        self.Name=Name\n",
    "        self.age=age\n",
    "        self.num_tickets=num_tickets\n",
    "        self.movie_name=movie_name\n",
    "    \n",
    "    \n",
    "    def Ticket_cost(self):\n",
    "        \n",
    "        if(self.age<18):\n",
    "            ticket_cost=100\n",
    "        elif(self.age>60):\n",
    "            ticket_cost=120\n",
    "        else:\n",
    "            ticket_cost=150\n",
    "\n",
    "            Total_cost=ticket_cost*num_tickets\n",
    "            \n",
    "            return Total_cost\n",
    "        \n",
    "    def Book_ticket(self):\n",
    "        \n",
    "        Total_cost=self.Ticket_cost()\n",
    "\n",
    "        print(f'Congrats {self.Name} we confirmed your {self.num_tickets} tickets for the movie {self.movie_name} ')\n",
    "        print(f'The price for the ticket is{Total_cost}')\n",
    "        \n",
    "        \n",
    "        \n",
    "if __name__=='__main__':\n",
    "    \n",
    "    Name=input(\"Enter the Name :\")\n",
    "    age=int(input(\"Enter the age :\"))\n",
    "    num_tickets=int(input(\"Enter the num of tickets :\"))\n",
    "    movie_name=input(\"Enter the movie name :\")\n",
    "        \n",
    "        \n",
    "    customer=ticket(Name,age,num_tickets,movie_name)\n",
    "    customer.Book_ticket()\n",
    "        \n",
    "        \n",
    "        \n",
    "        \n",
    "        \n",
    "        \n",
    "        \n",
    "        \n",
    "        "
   ]
  },
  {
   "cell_type": "markdown",
   "id": "c5ef5ad8",
   "metadata": {},
   "source": [
    "# Encapsulation:\n",
    "\n",
    "* Encapsulation is used to restrict access of data members and functions in a class"
   ]
  },
  {
   "cell_type": "code",
   "execution_count": 33,
   "id": "07a9151b",
   "metadata": {},
   "outputs": [],
   "source": [
    "class Software_emp:\n",
    "    \n",
    "    job_type=\"Software\"\n",
    "    \n",
    "    \n",
    "    def __init__(self,name,emp_id,des,sal,add,age):\n",
    "        \n",
    "        self.name=name\n",
    "        self.emp_id=emp_id\n",
    "        self.des=des\n",
    "        self.sal=sal \n",
    "        self.add=add\n",
    "        self.age=age\n",
    "    \n",
    "#     # Getter\n",
    "#     def show_sal(self,password):\n",
    "#         if password==\"@Nas007\":\n",
    "#             print(f\" Sal of {self.name} is {self.__sal}\")\n",
    "            \n",
    "#         else:\n",
    "#             print(\"Get Lost\")\n",
    "            \n",
    "            \n",
    "#     # Setter\n",
    "#     def inc_sal(self,password):\n",
    "#         add_sal=20000\n",
    "#         if password==\"@Nas007\":\n",
    "#             self.__sal=self.__sal+add_sal\n",
    "            \n",
    "#         else:\n",
    "#             print(\"Get Lost\")\n",
    "    \n",
    "    \n",
    "    "
   ]
  },
  {
   "cell_type": "code",
   "execution_count": 34,
   "id": "1284952c",
   "metadata": {},
   "outputs": [],
   "source": [
    "Emp_1=Software_emp(\"Jinsh\",\"001\",\"DS\",80000,\"Moon\",10)"
   ]
  },
  {
   "cell_type": "code",
   "execution_count": 35,
   "id": "7c7a03a7",
   "metadata": {},
   "outputs": [
    {
     "data": {
      "text/plain": [
       "80000"
      ]
     },
     "execution_count": 35,
     "metadata": {},
     "output_type": "execute_result"
    }
   ],
   "source": [
    "Emp_1.sal"
   ]
  },
  {
   "cell_type": "markdown",
   "id": "64e07344",
   "metadata": {},
   "source": [
    "### After Encapsulation"
   ]
  },
  {
   "cell_type": "code",
   "execution_count": 41,
   "id": "29ab6850",
   "metadata": {},
   "outputs": [
    {
     "name": "stdout",
     "output_type": "stream",
     "text": [
      "Sal of John Doe is 70000\n"
     ]
    }
   ],
   "source": [
    "# class Software_emp:\n",
    "    \n",
    "#     job_type=\"Software\"\n",
    "    \n",
    "    \n",
    "#     def __init__(self,name,emp_id,des,sal,add,age):\n",
    "        \n",
    "#         self.name=name\n",
    "#         self.emp_id=emp_id\n",
    "#         self.__sal=sal # Encapsulation\n",
    "#         self.add=add\n",
    "#         self.age=age\n",
    "    \n",
    "#     # Getter\n",
    "#     def show_sal(self,password):\n",
    "#         if password==\"@Nas007\":\n",
    "#             print(f\" Sal of {self.name} is {self.__sal}\")\n",
    "            \n",
    "#         else:\n",
    "#             print(\"Get Lost\")\n",
    "            \n",
    "            \n",
    "            \n",
    "class Software_emp:\n",
    "    \n",
    "    job_type = \"Software\"\n",
    "    \n",
    "    def __init__(self, name, emp_id, des, sal, add, age):\n",
    "        self.name = name\n",
    "        self.emp_id = emp_id\n",
    "        self.des = des\n",
    "        self.__sal = sal # Encapsulation\n",
    "        self.add = add\n",
    "        self.age = age\n",
    "    \n",
    "    # Getter\n",
    "    def show_sal(self, password):\n",
    "        if password == \"@Nas007\":\n",
    "            print(f\"Sal of {self.name} is {self.__sal}\")\n",
    "        else:\n",
    "            print(\"Get Lost\")\n",
    "\n",
    "# Instantiate an object of the Software_emp class\n",
    "emp_1 = Software_emp(\"John Doe\", 1, \"Developer\", 70000, \"123 Main St\", 30)\n",
    "\n",
    "# Call the show_sal method\n",
    "emp_1.show_sal('@Nas007')\n",
    "\n",
    "            "
   ]
  },
  {
   "cell_type": "code",
   "execution_count": 42,
   "id": "1f855f53",
   "metadata": {},
   "outputs": [
    {
     "name": "stdout",
     "output_type": "stream",
     "text": [
      "Get Lost\n"
     ]
    }
   ],
   "source": [
    "# Call the show_sal method\n",
    "emp_1.show_sal('@Nas007')"
   ]
  },
  {
   "cell_type": "code",
   "execution_count": 43,
   "id": "ba0757f8",
   "metadata": {},
   "outputs": [
    {
     "name": "stdout",
     "output_type": "stream",
     "text": [
      "Sal of John Doe is 70000\n"
     ]
    }
   ],
   "source": [
    "# Call the show_sal method\n",
    "emp_1.show_sal('@Nas007')"
   ]
  },
  {
   "cell_type": "code",
   "execution_count": 44,
   "id": "ebd5a69e",
   "metadata": {},
   "outputs": [
    {
     "data": {
      "text/plain": [
       "30"
      ]
     },
     "execution_count": 44,
     "metadata": {},
     "output_type": "execute_result"
    }
   ],
   "source": [
    "Emp_1.age+20"
   ]
  },
  {
   "cell_type": "markdown",
   "id": "bde7fde4",
   "metadata": {},
   "source": [
    "* Getter--A method that allows you to access an attribute in a given class\n",
    "*  Setter--the methods used in OOPS feature which helps to set the value to private attributes in a class\n",
    "*  Instant Variables (object Variables ) value of the variable changes object to object \n",
    "*  local Variables (Method Variables) variables which are declared in  method  for temporary  use\n",
    "*  Global Variables (Class Variables ) value of the variable does not changes object to object \n",
    "*  Polymorphism--the same entity (function or object) behaves differently in different scenarios"
   ]
  },
  {
   "cell_type": "code",
   "execution_count": 49,
   "id": "c5351664",
   "metadata": {},
   "outputs": [],
   "source": [
    "class Software_emp:\n",
    "    \n",
    "    job_type=\"Software\"\n",
    "    \n",
    "    \n",
    "    def __init__(self,name,emp_id,des,sal,add,age):\n",
    "        \n",
    "        self.name=name\n",
    "        self.emp_id=emp_id\n",
    "        self.des=des\n",
    "        self.__sal=sal # Encapsulation\n",
    "        self.add=add\n",
    "        self.age=age\n",
    "    \n",
    "    # Getter\n",
    "    def show_sal(self,password):\n",
    "        if password==\"@Nas007\":\n",
    "            print(f\" Sal of {self.name} is {self.__sal}\")\n",
    "            \n",
    "        else:\n",
    "            print(\"Get Lost\")\n",
    "            \n",
    "            \n",
    "    # Setter\n",
    "    def inc_sal(self,password):\n",
    "        add_sal=20000\n",
    "        if password==\"@Nas007\":\n",
    "            self.__sal=self.__sal+add_sal\n",
    "            \n",
    "        else:\n",
    "            print(\"Get Lost\")\n",
    "    "
   ]
  },
  {
   "cell_type": "code",
   "execution_count": 51,
   "id": "90fb7d35",
   "metadata": {},
   "outputs": [],
   "source": [
    "    \n",
    "class Hardware_emp(Software_emp):\n",
    "    \n",
    "    job_type=\"Hardware\"\n",
    "    \n",
    "    \n",
    "    def __init__(self,name,emp_id,des,sal,add,age,insur):\n",
    "        Software_emp. __init__(self,name,emp_id,des,sal,add,age)\n",
    "        self.__sal=sal\n",
    "        self.__insur=insur\n",
    "        \n",
    "        \n",
    "    \n",
    "    def inc_sal(self,password):\n",
    "        add_sal=20000\n",
    "        if password==\"@Nas007\":\n",
    "            self.__sal=self.__sal+add_sal\n",
    "            self.__insur=self.__insur+20000\n",
    "            print(self.__sal)\n",
    "            \n",
    "            \n",
    "        else:\n",
    "            print(\"Get Lost\")\n",
    "            \n",
    "            \n",
    "    def show_insur(self,password):\n",
    "        if password==\"@Nas007\":\n",
    "            print(f\" Sal of {self.name} is {self.__insur}\")\n",
    "            \n",
    "        else:\n",
    "            print(\"Get Lost\")"
   ]
  },
  {
   "cell_type": "code",
   "execution_count": 53,
   "id": "b77de524",
   "metadata": {},
   "outputs": [],
   "source": [
    "Emp_HW_1=Hardware_emp(\"Nas\",1,\"CEO\",200000,\"Moon\",10,5000)"
   ]
  },
  {
   "cell_type": "code",
   "execution_count": 54,
   "id": "275bc6e8",
   "metadata": {},
   "outputs": [
    {
     "name": "stdout",
     "output_type": "stream",
     "text": [
      "220000\n"
     ]
    }
   ],
   "source": [
    "Emp_HW_1.inc_sal(\"@Nas007\")"
   ]
  },
  {
   "cell_type": "code",
   "execution_count": null,
   "id": "d5579e1e",
   "metadata": {},
   "outputs": [],
   "source": []
  }
 ],
 "metadata": {
  "kernelspec": {
   "display_name": "Python 3 (ipykernel)",
   "language": "python",
   "name": "python3"
  },
  "language_info": {
   "codemirror_mode": {
    "name": "ipython",
    "version": 3
   },
   "file_extension": ".py",
   "mimetype": "text/x-python",
   "name": "python",
   "nbconvert_exporter": "python",
   "pygments_lexer": "ipython3",
   "version": "3.11.5"
  }
 },
 "nbformat": 4,
 "nbformat_minor": 5
}
